{
 "cells": [
  {
   "cell_type": "markdown",
   "id": "6b1aeaea-43d9-476b-8fce-5c4b55707874",
   "metadata": {},
   "source": [
    "# Fusion-in-Decoder (FiD)\n",
    "\n",
    "In this tutorial, we will utilize the FiD model to read multiple documents in parallel, to generate an answer for any question.\n",
    "\n",
    "We will use a pipeline that will:\n",
    "\n",
    "- Fetch relevant documents for our question.\n",
    "- Rerank the documents for better performance.\n",
    "- Read the documents in parallel and generate using FiD.\n",
    "\n",
    "For more information about FiD, we encourage reading the original paper: [Leveraging Passage Retrieval with Generative Models\n",
    "for Open Domain Question Answering](https://arxiv.org/pdf/2007.01282.pdf). \n"
   ]
  },
  {
   "cell_type": "code",
   "execution_count": 1,
   "id": "c25d1abb-1e57-4290-8a6e-43aa20ceca17",
   "metadata": {},
   "outputs": [],
   "source": [
    "from haystack import Pipeline\n",
    "from haystack.nodes.prompt import PromptNode\n",
    "import torch\n",
    "from haystack.nodes import PromptModel\n",
    "from haystack.nodes.prompt.prompt_template import PromptTemplate\n",
    "from haystack.nodes import AnswerParser\n",
    "from haystack.nodes.ranker import SentenceTransformersRanker\n",
    "from haystack.nodes.retriever import BM25Retriever\n",
    "from haystack.document_stores import InMemoryDocumentStore\n",
    "from haystack import Document"
   ]
  },
  {
   "cell_type": "markdown",
   "id": "0d1cfe9c-7861-4ed8-836e-689a612faf15",
   "metadata": {},
   "source": [
    "We start from a collection of paragraphs from Wikipedia, for the retrieval phase:"
   ]
  },
  {
   "cell_type": "code",
   "execution_count": 2,
   "id": "23442f1b-ede3-4ef8-9768-d0e598315cc6",
   "metadata": {},
   "outputs": [],
   "source": [
    "document_collection = [{'id': '11457596',\n",
    "  'text': 'Quest\", the \"Ultima\" series, \"EverQuest\", the \"Warcraft\" series, and the \"Elder Scrolls\" series of games as well as video games set in Middle-earth itself. Research also suggests that some consumers of fantasy games derive their motivation from trying to create an epic fantasy narrative which is influenced by \"The Lord of the Rings\". In 1965, songwriter Donald Swann, who was best known for his collaboration with Michael Flanders as Flanders & Swann, set six poems from \"The Lord of the Rings\" and one from \"The Adventures of Tom Bombadil\" (\"Errantry\") to music. When Swann met with Tolkien to play the',\n",
    "  'title': 'The Lord of the Rings'},\n",
    " {'id': '11457582',\n",
    "  'text': 'helped \"The Lord of the Rings\" become immensely popular in the United States in the 1960s. The book has remained so ever since, ranking as one of the most popular works of fiction of the twentieth century, judged by both sales and reader surveys. In the 2003 \"Big Read\" survey conducted in Britain by the BBC, \"The Lord of the Rings\" was found to be the \"Nation\\'s best-loved book\". In similar 2004 polls both Germany and Australia also found \"The Lord of the Rings\" to be their favourite book. In a 1999 poll of Amazon.com customers, \"The Lord of the',\n",
    "  'title': 'The Lord of the Rings'},\n",
    " {'id': '11457540',\n",
    "  'text': 'of Tolkien\\'s works is such that the use of the words \"Tolkienian\" and \"Tolkienesque\" has been recorded in the \"Oxford English Dictionary\". The enduring popularity of \"The Lord of the Rings\" has led to numerous references in popular culture, the founding of many societies by fans of Tolkien\\'s works, and the publication of many books about Tolkien and his works. \"The Lord of the Rings\" has inspired, and continues to inspire, artwork, music, films and television, video games, board games, and subsequent literature. Award-winning adaptations of \"The Lord of the Rings\" have been made for radio, theatre, and film. In',\n",
    "  'title': 'The Lord of the Rings'},\n",
    " {'id': '11457587',\n",
    "  'text': 'has been read as fitting the model of Joseph Campbell\\'s \"monomyth\". \"The Lord of the Rings\" has been adapted for film, radio and stage. The book has been adapted for radio four times. In 1955 and 1956, the BBC broadcast \"The Lord of the Rings\", a 13-part radio adaptation of the story. In the 1960s radio station WBAI produced a short radio adaptation. A 1979 dramatization of \"The Lord of the Rings\" was broadcast in the United States and subsequently issued on tape and CD. In 1981, the BBC broadcast \"The Lord of the Rings\", a new dramatization in 26',\n",
    "  'title': 'The Lord of the Rings'},\n",
    " {'id': '11457592',\n",
    "  'text': '\"The Lord of the Rings\", was released on the internet in May 2009 and has been covered in major media. \"Born of Hope\", written by Paula DiSante, directed by Kate Madison, and released in December 2009, is a fan film based upon the appendices of \"The Lord of the Rings\". In November 2017, Amazon acquired the global television rights to \"The Lord of the Rings\", committing to a multi-season television series. The series will not be a direct adaptation of the books, but will instead introduce new stories that are set before \"The Fellowship of the Ring\". Amazon said the',\n",
    "  'title': 'The Lord of the Rings'},\n",
    " {'id': '7733817',\n",
    "  'text': 'The Lord of the Rings Online The Lord of the Rings Online: Shadows of Angmar is a massive multiplayer online role-playing game (MMORPG) for Microsoft Windows and OS X set in a fantasy universe based upon J. R. R. Tolkien\\'s Middle-earth writings, taking place during the time period of \"The Lord of the Rings\". It launched in North America, Australia, Japan, and Europe in 2007. Originally subscription-based, it is free-to-play, with a paid VIP subscription available that provides players various perks.  The game\\'s environment is based on \"The Lord of the Rings\" and \"The Hobbit\". However, Turbine does not',\n",
    "  'title': 'The Lord of the Rings Online'},\n",
    " {'id': '22198847',\n",
    "  'text': 'of \"The Lord of the Rings\", including Ian McKellen, Andy Serkis, Hugo Weaving, Elijah Wood, Ian Holm, Christopher Lee, Cate Blanchett and Orlando Bloom who reprised their roles. Although the \"Hobbit\" films were even more commercially successful than \"The Lord of the Rings\", they received mixed reviews from critics. Numerous video games were released to supplement the film series. They include: \",\" Pinball, \"\", \"\", , \"\", \"\", \"\", \"\", \"The Lord of the Rings Online\", \"\", \"\", \"\", \"Lego The Lord of the Rings\", \"Guardians of Middle-earth\", \"\", and \"\".',\n",
    "  'title': 'The Lord of the Rings (film series)'},\n",
    " {'id': '24071573',\n",
    "  'text': 'Lord of the Rings (musical) The Lord of the Rings is the most prominent of several theatre adaptations of J. R. R. Tolkien\\'s epic high fantasy novel of the same name, with music by A. R. Rahman, Christopher Nightingale and the band Värttinä, and book and lyrics by Matthew Warchus and Shaun McKenna. Set in the world of Middle-earth, \"The Lord of the Rings\" tells the tale of a humble hobbit who is asked to play the hero and undertake a treacherous mission to destroy an evil, magic ring without being seduced by its power. The show was first performed',\n",
    "  'title': 'Lord of the Rings (musical)'},\n",
    " {'id': '11457536',\n",
    "  'text': 'The Lord of the Rings The Lord of the Rings is an epic high fantasy novel written by English author and scholar J. R. R. Tolkien. The story began as a sequel to Tolkien\\'s 1937 fantasy novel \"The Hobbit\", but eventually developed into a much larger work. Written in stages between 1937 and 1949, \"The Lord of the Rings\" is one of the best-selling novels ever written, with over 150 million copies sold. The title of the novel refers to the story\\'s main antagonist, the Dark Lord Sauron, who had in an earlier age created the One Ring to rule',\n",
    "  'title': 'The Lord of the Rings'},\n",
    " {'id': '13304003',\n",
    "  'text': \"The Lord of the Rings (disambiguation) The Lord of the Rings is a fantasy novel by J. R. R. Tolkien. The title refers to Sauron, the story's main antagonist. The Lord of the Rings may also refer to:\",\n",
    "  'title': 'The Lord of the Rings (disambiguation)'}]"
   ]
  },
  {
   "cell_type": "markdown",
   "id": "6d381c2c-a3ca-4bb8-b003-481d6aed5148",
   "metadata": {},
   "source": [
    "We then create an InMemoryDocumentStore document store, to store all the documents:"
   ]
  },
  {
   "cell_type": "code",
   "execution_count": 3,
   "id": "d8f3e6df-3efa-41c7-a096-11f90b4b9c44",
   "metadata": {},
   "outputs": [],
   "source": [
    "store = InMemoryDocumentStore(use_bm25=True)"
   ]
  },
  {
   "cell_type": "code",
   "execution_count": 4,
   "id": "99700ae4-fd3f-4d16-ad7c-8cd746c9999d",
   "metadata": {},
   "outputs": [],
   "source": [
    "documents = [Document(id=item[\"id\"], content=item[\"text\"], meta={\"title\": item[\"title\"]}) for item in document_collection]"
   ]
  },
  {
   "cell_type": "code",
   "execution_count": 5,
   "id": "a2d901a6-a350-45a9-b69e-ab44a4dad9f8",
   "metadata": {},
   "outputs": [
    {
     "name": "stderr",
     "output_type": "stream",
     "text": [
      "Updating BM25 representation...: 100%|██████████████████████████████████████████| 10/10 [00:00<00:00, 25700.39 docs/s]\n"
     ]
    }
   ],
   "source": [
    "store.write_documents(documents)"
   ]
  },
  {
   "cell_type": "markdown",
   "id": "beb6fb8f-eb34-421c-9ceb-32f8df00ec6b",
   "metadata": {},
   "source": [
    "Next, we create a simple BM25 retriever on top of our store, and an additional reranker component to improve the ranking of the documents used for answering the question:"
   ]
  },
  {
   "cell_type": "code",
   "execution_count": 6,
   "id": "702ce4e4-6a26-473f-9804-91136ddb60e7",
   "metadata": {},
   "outputs": [
    {
     "name": "stderr",
     "output_type": "stream",
     "text": [
      "/usr/local/lib/python3.10/dist-packages/torch/_utils.py:776: UserWarning: TypedStorage is deprecated. It will be removed in the future and UntypedStorage will be the only storage class. This should only matter to you if you are using storages directly.  To access UntypedStorage directly, use tensor.untyped_storage() instead of tensor.storage()\n",
      "  return self.fget.__get__(instance, owner)()\n"
     ]
    }
   ],
   "source": [
    "\n",
    "retriever = BM25Retriever(\n",
    "    document_store= store,\n",
    "    top_k= 10\n",
    ")    \n",
    " \n",
    "reranker = SentenceTransformersRanker(\n",
    "    batch_size= 32,\n",
    "    model_name_or_path= \"cross-encoder/ms-marco-MiniLM-L-6-v2\",\n",
    "    top_k= 1,\n",
    "    use_gpu= False\n",
    ")"
   ]
  },
  {
   "cell_type": "markdown",
   "id": "f1713866-5fb0-430a-bf8d-e879c2dc9905",
   "metadata": {},
   "source": [
    "Now that we have created the retrieval components, we move to the LLM usage.\n",
    "We create a PromptModel with an LLM, using the ```code fid.FiDHFLocalInvocationLayer``` class, to manage the parallel reading with FiD."
   ]
  },
  {
   "cell_type": "code",
   "execution_count": 7,
   "id": "5706b86d-4393-466e-a578-d773683bc626",
   "metadata": {},
   "outputs": [
    {
     "name": "stdout",
     "output_type": "stream",
     "text": [
      "No installation of intel_extension_for_transformers found. Please install it using the provided 'requirements.txt' file.\n"
     ]
    }
   ],
   "source": [
    "from fastrag.prompters.invocation_layers import fid "
   ]
  },
  {
   "cell_type": "code",
   "execution_count": 8,
   "id": "0238a927-736c-498d-afd0-428971daa175",
   "metadata": {},
   "outputs": [
    {
     "name": "stderr",
     "output_type": "stream",
     "text": [
      "[10/19/2023 06:57:40] {utils.py:130} INFO - Using devices: CUDA:0 - Number of GPUs: 1\n",
      "The model 'FusionInDecoderForConditionalGeneration' is not supported for text2text-generation. Supported models are ['BartForConditionalGeneration', 'BigBirdPegasusForConditionalGeneration', 'BlenderbotForConditionalGeneration', 'BlenderbotSmallForConditionalGeneration', 'EncoderDecoderModel', 'FSMTForConditionalGeneration', 'GPTSanJapaneseForConditionalGeneration', 'LEDForConditionalGeneration', 'LongT5ForConditionalGeneration', 'M2M100ForConditionalGeneration', 'MarianMTModel', 'MBartForConditionalGeneration', 'MT5ForConditionalGeneration', 'MvpForConditionalGeneration', 'NllbMoeForConditionalGeneration', 'PegasusForConditionalGeneration', 'PegasusXForConditionalGeneration', 'PLBartForConditionalGeneration', 'ProphetNetForConditionalGeneration', 'SwitchTransformersForConditionalGeneration', 'T5ForConditionalGeneration', 'UMT5ForConditionalGeneration', 'XLMProphetNetForConditionalGeneration'].\n",
      "[10/19/2023 06:57:43] {FiD.py:62} INFO - tokenizer max length is:512\n"
     ]
    }
   ],
   "source": [
    "PrompterModel = PromptModel(\n",
    "    model_name_or_path= \"Intel/fid_flan_t5_base_nq\",\n",
    "    use_gpu= True,\n",
    "    invocation_layer_class=fid.FiDHFLocalInvocationLayer,\n",
    "    model_kwargs= dict(\n",
    "        model_kwargs= dict(\n",
    "            device_map= {\"\": 0},\n",
    "            torch_dtype  = torch.bfloat16,\n",
    "            do_sample=False\n",
    "        ),\n",
    "        generation_kwargs=dict(\n",
    "            max_length=10\n",
    "        )\n",
    "    )\n",
    ")"
   ]
  },
  {
   "cell_type": "markdown",
   "id": "5e9a00ea-e59b-4492-b175-eaef76f33c07",
   "metadata": {},
   "source": [
    "With the model and the prompt template now ready, we create a PromptNode to unify both modules:"
   ]
  },
  {
   "cell_type": "code",
   "execution_count": 9,
   "id": "e07a9488-5562-459f-9624-5aaefd66aeaa",
   "metadata": {},
   "outputs": [],
   "source": [
    "Prompter = PromptNode(\n",
    "    model_name_or_path= PrompterModel,\n",
    "    default_prompt_template=PromptTemplate(\"{query}\", output_parser=AnswerParser())\n",
    ")"
   ]
  },
  {
   "cell_type": "markdown",
   "id": "e03a9423-fcaa-4c2a-b677-f32d79f642ce",
   "metadata": {},
   "source": [
    "Our components are now ready. We can now create a pipeline, to connect all of them together:"
   ]
  },
  {
   "cell_type": "code",
   "execution_count": 10,
   "id": "7d4a517e-9fa6-407f-9527-e372e1623c5f",
   "metadata": {},
   "outputs": [],
   "source": [
    "pipe = Pipeline()\n",
    "\n",
    "pipe.add_node(component=retriever, name= 'Retriever',inputs= [\"Query\"])\n",
    "pipe.add_node(component=reranker, name= 'Reranker',inputs= [\"Retriever\"])\n",
    "pipe.add_node(component=Prompter, name= 'Prompter',inputs= [\"Reranker\"])"
   ]
  },
  {
   "cell_type": "markdown",
   "id": "ae3804a9-a067-4033-bded-3a76c7294be1",
   "metadata": {},
   "source": [
    "Finally, lets ask it a question:"
   ]
  },
  {
   "cell_type": "code",
   "execution_count": 11,
   "id": "3c0206f4-adf6-4c0d-bd7b-be5fa9851f39",
   "metadata": {},
   "outputs": [],
   "source": [
    "answer_result = pipe.run(\"Who is the main villan in Lord of the Rings?\",params={\n",
    "    \"Retriever\": {\n",
    "        \"top_k\": 8\n",
    "    },\n",
    "    \"Reranker\": {\n",
    "        \"top_k\": 5\n",
    "    }\n",
    "})"
   ]
  },
  {
   "cell_type": "code",
   "execution_count": 12,
   "id": "ac583615-20b7-45e4-93ce-a70e695f9a44",
   "metadata": {},
   "outputs": [
    {
     "data": {
      "text/plain": [
       "'Sauron'"
      ]
     },
     "execution_count": 12,
     "metadata": {},
     "output_type": "execute_result"
    }
   ],
   "source": [
    "answer_result[\"answers\"][0].answer"
   ]
  },
  {
   "cell_type": "code",
   "execution_count": null,
   "id": "e2344dfe-6946-412d-b169-2cd080d1f576",
   "metadata": {},
   "outputs": [],
   "source": []
  }
 ],
 "metadata": {
  "kernelspec": {
   "display_name": "Python 3 (ipykernel)",
   "language": "python",
   "name": "python3"
  },
  "language_info": {
   "codemirror_mode": {
    "name": "ipython",
    "version": 3
   },
   "file_extension": ".py",
   "mimetype": "text/x-python",
   "name": "python",
   "nbconvert_exporter": "python",
   "pygments_lexer": "ipython3",
   "version": "3.10.6"
  }
 },
 "nbformat": 4,
 "nbformat_minor": 5
}
