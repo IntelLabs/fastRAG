{
 "cells": [
  {
   "cell_type": "markdown",
   "id": "72eed43b-ee98-4623-9e4d-8955546d130d",
   "metadata": {},
   "source": [
    "# Multi-Modal Conversational Agent with ReAct Prompting\n",
    "\n",
    "In this tutorial, we will demonstrate how we can utilize a [4B Phi3.5 Vision model](microsoft/Phi-3.5-vision-instruct) to perform multi-step reasoning with tools, to answer Open-Domain questions.\n",
    "\n",
    "To get both images and posts, we will use a simple Intel related data, taken from wikipedia. We will also include some additional images, to supplement our image data.\n",
    "\n",
    "This tutorial is based on this [original haystack tutorial](https://haystack.deepset.ai/tutorials/25_customizing_agent).\n",
    "\n",
    "All assets for this tutorial are available in the [official fastRAG repository](https://github.com/IntelLabs/fastRAG)."
   ]
  },
  {
   "cell_type": "code",
   "execution_count": 1,
   "id": "f4f9f501-335e-4bc0-929e-2e010ec73add",
   "metadata": {},
   "outputs": [],
   "source": [
    "from haystack import Pipeline, Document\n",
    "from haystack.document_stores.in_memory import InMemoryDocumentStore\n",
    "from haystack.components.writers import DocumentWriter\n",
    "from haystack.components.embedders import SentenceTransformersDocumentEmbedder"
   ]
  },
  {
   "cell_type": "markdown",
   "id": "4febda6d-8c16-4cda-b7c1-61f8deea186b",
   "metadata": {},
   "source": [
    "First, lets load some multi-modal data:"
   ]
  },
  {
   "cell_type": "code",
   "execution_count": 2,
   "id": "1fe396f2-2c14-4025-a0a0-e58dc2ee76e4",
   "metadata": {},
   "outputs": [],
   "source": [
    "import json\n",
    "entries = json.load(open(\"../assets/multi_modal_files/intel_image_data.json\", \"r\"))"
   ]
  },
  {
   "cell_type": "markdown",
   "id": "94595ad7-490d-4eaf-9262-c500f0aa9f2e",
   "metadata": {},
   "source": [
    "Each entry contains a brief textual description, with a title and an image.\n",
    "\n",
    "Next, we create an index for the documents above.\n",
    "\n",
    "Lets proceed to our Document Retrieval Pipeline.\n",
    "It will consist of a retriever to fetch the inital batch, and a prompt builder to formulate the information for our model to use."
   ]
  },
  {
   "cell_type": "code",
   "execution_count": 3,
   "id": "7f77456b-3aa0-44d5-81c1-981281c0c877",
   "metadata": {},
   "outputs": [],
   "source": [
    "document_store = InMemoryDocumentStore()"
   ]
  },
  {
   "cell_type": "code",
   "execution_count": 4,
   "id": "279976d7-f923-455f-b564-808ff97afae2",
   "metadata": {},
   "outputs": [
    {
     "name": "stdout",
     "output_type": "stream",
     "text": [
      "LLM pipeline created\n"
     ]
    }
   ],
   "source": [
    "from haystack.components.embedders import SentenceTransformersTextEmbedder\n",
    "from haystack.components.retrievers.in_memory import InMemoryEmbeddingRetriever\n",
    "from fastrag.prompt_builders.multi_modal_prompt_builder import MultiModalPromptBuilder\n",
    "from haystack.components.builders import PromptBuilder\n",
    "from haystack.components.generators import OpenAIGenerator\n",
    "\n",
    "template = \"{% for document in documents %}\\nImage: <|image_\\nThis image shows: {{ document.content }} \\n{% endfor %}\"\n",
    "\n",
    "retrieval_pipeline = Pipeline()\n",
    "retrieval_pipeline.add_component(\"embedder\", SentenceTransformersTextEmbedder(model=\"sentence-transformers/all-MiniLM-L6-v2\"))\n",
    "retrieval_pipeline.add_component(\"retriever\", InMemoryEmbeddingRetriever(document_store=document_store, top_k=1))\n",
    "retrieval_pipeline.add_component(\"prompt_builder\", MultiModalPromptBuilder(template=template))\n",
    "\n",
    "retrieval_pipeline.connect(\"embedder.embedding\", \"retriever.query_embedding\")\n",
    "retrieval_pipeline.connect(\"retriever\", \"prompt_builder.documents\")\n",
    "print(f\"LLM pipeline created\")"
   ]
  },
  {
   "cell_type": "markdown",
   "id": "97bd0570-0d5e-4fa8-a3cc-f95e0bf9ad78",
   "metadata": {},
   "source": [
    "We create our document tool:"
   ]
  },
  {
   "cell_type": "code",
   "execution_count": 5,
   "id": "822fceca-4a4c-46bf-991e-72a5a1004d93",
   "metadata": {},
   "outputs": [],
   "source": [
    "from fastrag.agents.tools.tools import DocWithImageHaystackQueryTool"
   ]
  },
  {
   "cell_type": "code",
   "execution_count": 6,
   "id": "f0433f96-e980-4bd6-ac91-f53afc7461ff",
   "metadata": {},
   "outputs": [],
   "source": [
    "doc_tool = DocWithImageHaystackQueryTool(\n",
    "    name=\"docRetriever\",\n",
    "    description=\"useful for when you need to retrieve textual documents to answer questions.\",\n",
    "    pipeline_or_yaml_file=retrieval_pipeline\n",
    ")"
   ]
  },
  {
   "cell_type": "markdown",
   "id": "94a80449-073d-423f-a806-e8a7625cbc5e",
   "metadata": {},
   "source": [
    "To allow our tool to index our pipeline, we provide ```index_pipeline```, that will embed our documents:"
   ]
  },
  {
   "cell_type": "code",
   "execution_count": 7,
   "id": "8e311ea5-f6cd-4def-a765-0d36fc001bb6",
   "metadata": {},
   "outputs": [],
   "source": [
    "from haystack.components.writers import DocumentWriter"
   ]
  },
  {
   "cell_type": "code",
   "execution_count": 8,
   "id": "f8a92f6f-3aeb-4712-b2b8-2264365ab99a",
   "metadata": {},
   "outputs": [
    {
     "data": {
      "text/plain": [
       "<haystack.core.pipeline.pipeline.Pipeline object at 0x7fe242aaa6d0>\n",
       "🚅 Components\n",
       "  - doc_embedder: SentenceTransformersDocumentEmbedder\n",
       "  - doc_writer: DocumentWriter\n",
       "🛤️ Connections\n",
       "  - doc_embedder.documents -> doc_writer.documents (List[Document])"
      ]
     },
     "execution_count": 8,
     "metadata": {},
     "output_type": "execute_result"
    }
   ],
   "source": [
    "index_pipeline = Pipeline()\n",
    "index_pipeline.add_component(\n",
    "    instance=SentenceTransformersDocumentEmbedder(model=\"sentence-transformers/all-MiniLM-L6-v2\"), name=\"doc_embedder\"\n",
    ")\n",
    "index_pipeline.add_component(\n",
    "    instance=DocumentWriter(document_store=document_store), name=\"doc_writer\"\n",
    ")\n",
    "\n",
    "index_pipeline.connect(\"doc_embedder.documents\", \"doc_writer.documents\")"
   ]
  },
  {
   "cell_type": "markdown",
   "id": "2aa3afd2-659f-48f3-a1b6-bc3f7402bfa9",
   "metadata": {},
   "source": [
    "With our indexing pipeline ready, we can upload the content:"
   ]
  },
  {
   "cell_type": "code",
   "execution_count": 9,
   "id": "12d61c6b-1329-47aa-8371-6c553b005d01",
   "metadata": {},
   "outputs": [
    {
     "name": "stderr",
     "output_type": "stream",
     "text": [
      "FutureWarning: `clean_up_tokenization_spaces` was not set. It will be set to `True` by default. This behavior will be depracted in transformers v4.45, and will be then set to `False` by default. For more details check this issue: https://github.com/huggingface/transformers/issues/31884\n",
      "  warnings.warn(\n"
     ]
    },
    {
     "data": {
      "application/vnd.jupyter.widget-view+json": {
       "model_id": "19b90d16213e4a649581a8e8dfc4f0a5",
       "version_major": 2,
       "version_minor": 0
      },
      "text/plain": [
       "Batches:   0%|          | 0/1 [00:00<?, ?it/s]"
      ]
     },
     "metadata": {},
     "output_type": "display_data"
    },
    {
     "data": {
      "text/plain": [
       "{'doc_writer': {'documents_written': 3}}"
      ]
     },
     "execution_count": 9,
     "metadata": {},
     "output_type": "execute_result"
    }
   ],
   "source": [
    "index_pipeline.run({\n",
    "    \"documents\": [\n",
    "        Document(\n",
    "            content=entry[\"content\"], \n",
    "            meta={\n",
    "                \"title\": entry[\"title\"],\n",
    "                \"image_url\": entry[\"image_url\"]\n",
    "            }\n",
    "        ) for entry in entries\n",
    "    ]\n",
    "})"
   ]
  },
  {
   "cell_type": "markdown",
   "id": "4a5caeb1-e26f-41dc-847d-b1a8e0e0efff",
   "metadata": {},
   "source": [
    "Lets test it out:"
   ]
  },
  {
   "cell_type": "code",
   "execution_count": 10,
   "id": "21fd9aa2-da39-4700-8395-4f260bedebf1",
   "metadata": {},
   "outputs": [
    {
     "data": {
      "application/vnd.jupyter.widget-view+json": {
       "model_id": "9f9479e37ba8483490bd164db4fb78b0",
       "version_major": 2,
       "version_minor": 0
      },
      "text/plain": [
       "Batches:   0%|          | 0/1 [00:00<?, ?it/s]"
      ]
     },
     "metadata": {},
     "output_type": "display_data"
    }
   ],
   "source": [
    "query = \"Where are Intel's headquarters?\"\n",
    "rag_res = doc_tool.run(query)"
   ]
  },
  {
   "cell_type": "code",
   "execution_count": 11,
   "id": "cb3978c8-cb25-4a92-8fe1-4cee816c4fb8",
   "metadata": {},
   "outputs": [
    {
     "name": "stdout",
     "output_type": "stream",
     "text": [
      "\n",
      "Image: <|image_\n",
      "This image shows: Headquarters in Santa Clara, California, in 2023 \n",
      "\n"
     ]
    }
   ],
   "source": [
    "print(rag_res[0])"
   ]
  },
  {
   "cell_type": "markdown",
   "id": "18d7afc5-d3c1-4a71-8c99-0af8ebec855c",
   "metadata": {},
   "source": [
    "Notice that we have the \"<|image_\" placeholder for our model to inject the images into later on."
   ]
  },
  {
   "cell_type": "markdown",
   "id": "d3baf1b4-042f-4380-9852-e0d8df59c987",
   "metadata": {},
   "source": [
    "To orchestrate the usage of all our tools, we will also create a tools manager: "
   ]
  },
  {
   "cell_type": "code",
   "execution_count": 12,
   "id": "7899be2d-d47d-47c9-9049-be11122678ad",
   "metadata": {},
   "outputs": [],
   "source": [
    "from fastrag.agents.base import ToolsManager\n",
    "\n",
    "tools_manager=ToolsManager(tools=[doc_tool])"
   ]
  },
  {
   "cell_type": "markdown",
   "id": "faa413b5-f784-4805-b9cd-647501ede8e5",
   "metadata": {},
   "source": [
    "With the tools manager ready, we create our conversational agent.\n",
    "For more information about the AGENT_PROMPT and resolver functions, we refer to the [original haystack tutorial](https://haystack.deepset.ai/tutorials/25_customizing_agent)."
   ]
  },
  {
   "cell_type": "code",
   "execution_count": 13,
   "id": "9da4dd04-3cbb-4f62-9180-ed5371241fc9",
   "metadata": {},
   "outputs": [],
   "source": [
    "from fastrag.agents.create_agent import AGENT_ROLES"
   ]
  },
  {
   "cell_type": "markdown",
   "id": "a4b3a146-46d9-40b7-88c1-8b934816a88b",
   "metadata": {},
   "source": [
    "Now we will load our multi-modal generator:"
   ]
  },
  {
   "cell_type": "code",
   "execution_count": 14,
   "id": "911e7330-5b82-45f0-9e26-fc95961829cb",
   "metadata": {},
   "outputs": [],
   "source": [
    "from fastrag.generators.stopping_criteria.stop_words import StopWordsByTextCriteria\n",
    "from transformers import AutoTokenizer, StoppingCriteriaList"
   ]
  },
  {
   "cell_type": "code",
   "execution_count": 15,
   "id": "6dc99d97-d8c8-465c-a885-d4dbf5463c59",
   "metadata": {},
   "outputs": [],
   "source": [
    "model_name_or_path = \"microsoft/Phi-3.5-vision-instruct\""
   ]
  },
  {
   "cell_type": "code",
   "execution_count": 16,
   "id": "74416c05-4cb1-465a-ae1a-083206e43530",
   "metadata": {},
   "outputs": [],
   "source": [
    "tokenizer = AutoTokenizer.from_pretrained(model_name_or_path)"
   ]
  },
  {
   "cell_type": "code",
   "execution_count": 17,
   "id": "6f1ee6a7-c242-4b83-9b78-941a471f7bf1",
   "metadata": {},
   "outputs": [],
   "source": [
    "stop_word_list = [\"Observation:\", \"<|end|>\"]"
   ]
  },
  {
   "cell_type": "code",
   "execution_count": 18,
   "id": "31d00109-4cd8-45b2-b4f6-000394ca2740",
   "metadata": {},
   "outputs": [],
   "source": [
    "sw = StopWordsByTextCriteria(\n",
    "    tokenizer=tokenizer, stop_words=stop_word_list, device=\"cpu\"\n",
    ")"
   ]
  },
  {
   "cell_type": "code",
   "execution_count": 19,
   "id": "c2d96a0d-6f27-4bf3-ad1b-9a1a398a6845",
   "metadata": {},
   "outputs": [
    {
     "name": "stderr",
     "output_type": "stream",
     "text": [
      "FutureWarning: The image_processor_class argument is deprecated and will be removed in v4.42. Please use `slow_image_processor_class`, or `fast_image_processor_class` instead\n",
      "  warnings.warn(\n"
     ]
    }
   ],
   "source": [
    "from fastrag.generators.llava import Phi35VisionHFGenerator\n",
    "import torch\n",
    "\n",
    "generator = Phi35VisionHFGenerator(\n",
    "    model = model_name_or_path,\n",
    "    task = \"image-to-text\",\n",
    "    generation_kwargs = {\n",
    "        \"max_new_tokens\": 100,\n",
    "        \"stopping_criteria\": StoppingCriteriaList([sw])\n",
    "    },\n",
    "    huggingface_pipeline_kwargs={\n",
    "        \"torch_dtype\": torch.bfloat16,\n",
    "        \"trust_remote_code\": True,\n",
    "        \"_attn_implementation\": \"eager\"\n",
    "    },\n",
    ")"
   ]
  },
  {
   "cell_type": "code",
   "execution_count": 20,
   "id": "43607e22-bb9b-4c5f-9745-d428925766bb",
   "metadata": {},
   "outputs": [
    {
     "data": {
      "application/vnd.jupyter.widget-view+json": {
       "model_id": "b2a3fcae4c344c9cb38bccf8807e4172",
       "version_major": 2,
       "version_minor": 0
      },
      "text/plain": [
       "Loading checkpoint shards:   0%|          | 0/2 [00:00<?, ?it/s]"
      ]
     },
     "metadata": {},
     "output_type": "display_data"
    }
   ],
   "source": [
    "generator.warm_up()"
   ]
  },
  {
   "cell_type": "markdown",
   "id": "6437da04-0388-438e-8e27-7d56686a4ac4",
   "metadata": {},
   "source": [
    "With our tools and generator ready, we create our agent:"
   ]
  },
  {
   "cell_type": "code",
   "execution_count": 21,
   "id": "bda1f18a-82f9-40ff-96c3-05b123be1dd2",
   "metadata": {},
   "outputs": [],
   "source": [
    "from fastrag.agents.base import Agent"
   ]
  },
  {
   "cell_type": "code",
   "execution_count": 22,
   "id": "cd709fb6-08aa-473f-8886-ac482d36789c",
   "metadata": {},
   "outputs": [],
   "source": [
    "from fastrag.agents.create_agent import ConversationMemory"
   ]
  },
  {
   "cell_type": "code",
   "execution_count": 24,
   "id": "296de73c-1a18-4795-ad70-14c85afed156",
   "metadata": {},
   "outputs": [],
   "source": [
    "conversational_agent = Agent(\n",
    "    generator,\n",
    "    prompt_template=AGENT_ROLES,\n",
    "    tools_manager=tools_manager,\n",
    "    memory=ConversationMemory(generator=generator),\n",
    ")"
   ]
  },
  {
   "cell_type": "markdown",
   "id": "a72d434e-7f0c-4d46-a9ba-d9eb2ac87071",
   "metadata": {},
   "source": [
    "Lets start chatting to our model!\n",
    "\n",
    "We can start by asking the model a question about an image."
   ]
  },
  {
   "cell_type": "code",
   "execution_count": 25,
   "id": "7b834861-9ab3-4520-97d5-138485acecd5",
   "metadata": {},
   "outputs": [
    {
     "name": "stdout",
     "output_type": "stream",
     "text": [
      "\n",
      "Agent Agent started with {'query': 'Give me an image of headquarters. What is the color of the building?', 'params': None}\n"
     ]
    },
    {
     "name": "stderr",
     "output_type": "stream",
     "text": [
      "Both `max_new_tokens` (=100) and `max_length`(=32000) seem to have been set. `max_new_tokens` will take precedence. Please refer to the documentation for more information. (https://huggingface.co/docs/transformers/main/en/main_classes/text_generation)\n",
      "The `seen_tokens` attribute is deprecated and will be removed in v4.41. Use the `cache_position` model input instead.\n",
      "You are not running the flash-attention implementation, expect numerical differences.\n"
     ]
    },
    {
     "name": "stdout",
     "output_type": "stream",
     "text": [
      "\u001b[32m\u001b[0m\u001b[32m\u001b[0m\u001b[32m\u001b[0m\u001b[32mThought: \u001b[0m\u001b[32mI \u001b[0m\u001b[32mshould \u001b[0m\u001b[32muse \u001b[0m\u001b[32ma \u001b[0m\u001b[32mtool \u001b[0m\u001b[32mto \u001b[0m\u001b[32mhelp \u001b[0m\u001b[32mme \u001b[0m\u001b[32manswer \u001b[0m\u001b[32mthe \u001b[0m\u001b[32m\u001b[0m\u001b[32mquestion.\n",
      "\u001b[0m\u001b[32m\u001b[0m\u001b[32m\u001b[0m\u001b[32mTool: \u001b[0m\u001b[32m\u001b[0m\u001b[32m\u001b[0m\u001b[32m\u001b[0m\u001b[32m\u001b[0m\u001b[32mdocRetriever.\n",
      "\u001b[0m\u001b[32m\u001b[0m\u001b[32mTool \u001b[0m\u001b[32m\u001b[0m\u001b[32mInput: \u001b[0m\u001b[32m\n",
      "\u001b[0m\u001b[32m\u001b[0m\u001b[32m```\n",
      "\u001b[0m\u001b[32m\u001b[0m\u001b[32m{\n",
      "\u001b[0m\u001b[32m\u001b[0m\u001b[32m \u001b[0m\u001b[32m\u001b[0m\u001b[32m\u001b[0m\u001b[32m\"input\": \u001b[0m\u001b[32m\u001b[0m\u001b[32m\"image \u001b[0m\u001b[32mof \u001b[0m\u001b[32m\u001b[0m\u001b[32mheadquarters\"\n",
      "\u001b[0m\u001b[32m\u001b[0m\u001b[32m}\n",
      "\u001b[0m\u001b[32m\u001b[0m\u001b[32m```\n",
      "\u001b[0m\u001b[32m\u001b[0m\u001b[32m\u001b[0m\u001b[32m\u001b[0m\u001b[32m\u001b[0m\u001b[32mObservation:\n",
      "\u001b[0m"
     ]
    },
    {
     "data": {
      "application/vnd.jupyter.widget-view+json": {
       "model_id": "21f8c6f1df9244929d651a1abe6c81a9",
       "version_major": 2,
       "version_minor": 0
      },
      "text/plain": [
       "Batches:   0%|          | 0/1 [00:00<?, ?it/s]"
      ]
     },
     "metadata": {},
     "output_type": "display_data"
    },
    {
     "name": "stdout",
     "output_type": "stream",
     "text": [
      "Observation: \u001b[33m\n",
      "Image: <|image_\n",
      "This image shows: Headquarters in Santa Clara, California, in 2023 \n",
      "\u001b[0m\n",
      "Thought: "
     ]
    },
    {
     "name": "stderr",
     "output_type": "stream",
     "text": [
      "Both `max_new_tokens` (=100) and `max_length`(=32000) seem to have been set. `max_new_tokens` will take precedence. Please refer to the documentation for more information. (https://huggingface.co/docs/transformers/main/en/main_classes/text_generation)\n"
     ]
    },
    {
     "name": "stdout",
     "output_type": "stream",
     "text": [
      "\u001b[32m\u001b[0m\u001b[32mFinal \u001b[0m\u001b[32m\u001b[0m\u001b[32mAnswer: \u001b[0m\u001b[32mThe \u001b[0m\u001b[32mheadquarters \u001b[0m\u001b[32mis \u001b[0m\u001b[32ma \u001b[0m\u001b[32mmodern \u001b[0m\u001b[32mbuilding \u001b[0m\u001b[32mwith \u001b[0m\u001b[32ma \u001b[0m\u001b[32m\u001b[0m\u001b[32m\u001b[0m\u001b[32mpredominantly \u001b[0m\u001b[32mblue \u001b[0m\u001b[32mand \u001b[0m\u001b[32mwhite \u001b[0m\u001b[32mcolor \u001b[0m\u001b[32m\u001b[0m\u001b[32m\u001b[0m\u001b[32mscheme.<|end|>\n",
      "\u001b[0m"
     ]
    }
   ],
   "source": [
    "agent_res = conversational_agent.run(\"Give me an image of headquarters. What is the color of the building?\")"
   ]
  },
  {
   "cell_type": "markdown",
   "id": "2362a432-ae3a-4fe5-ab49-27cb691850f3",
   "metadata": {},
   "source": [
    "Lets look at the image found for us:"
   ]
  },
  {
   "cell_type": "code",
   "execution_count": 26,
   "id": "3198e01d-ffbc-4c2a-9422-30d5c7e37949",
   "metadata": {},
   "outputs": [
    {
     "data": {
      "image/jpeg": "[encoded data removed]",
      "image/png": "[encoded data removed]",
      "text/plain": [
       "<PIL.Image.Image image mode=RGB size=200x100>"
      ]
     },
     "execution_count": 26,
     "metadata": {},
     "output_type": "execute_result"
    }
   ],
   "source": [
    "from PIL import Image\n",
    "import base64\n",
    "import io\n",
    "\n",
    "additional_params = conversational_agent.memory.get_additional_params()\n",
    "image_base64 = additional_params[\"images\"][0]\n",
    "img = Image.open(io.BytesIO(base64.decodebytes(bytes(image_base64, \"utf-8\"))))\n",
    "img.resize((200,100))"
   ]
  },
  {
   "cell_type": "markdown",
   "id": "da5b8a32-0534-4c1b-93f3-ce4922b9b07f",
   "metadata": {},
   "source": [
    "The answer seems to be on the money :)\n",
    "\n",
    "Now, what the model will do if we ask another question about the retrived passage:"
   ]
  },
  {
   "cell_type": "code",
   "execution_count": 27,
   "id": "251be564-4e0f-4827-89a3-f8f32736fa67",
   "metadata": {},
   "outputs": [
    {
     "name": "stdout",
     "output_type": "stream",
     "text": [
      "\n",
      "Agent Agent started with {'query': 'Where are the headquarters located?', 'params': None}\n"
     ]
    },
    {
     "name": "stderr",
     "output_type": "stream",
     "text": [
      "Both `max_new_tokens` (=100) and `max_length`(=32000) seem to have been set. `max_new_tokens` will take precedence. Please refer to the documentation for more information. (https://huggingface.co/docs/transformers/main/en/main_classes/text_generation)\n"
     ]
    },
    {
     "name": "stdout",
     "output_type": "stream",
     "text": [
      "\u001b[32m\u001b[0m\u001b[32m\u001b[0m\u001b[32m\u001b[0m\u001b[32mThought: \u001b[0m\u001b[32mI \u001b[0m\u001b[32mshould \u001b[0m\u001b[32muse \u001b[0m\u001b[32ma \u001b[0m\u001b[32mtool \u001b[0m\u001b[32mto \u001b[0m\u001b[32mhelp \u001b[0m\u001b[32mme \u001b[0m\u001b[32manswer \u001b[0m\u001b[32mthe \u001b[0m\u001b[32m\u001b[0m\u001b[32mquestion.\n",
      "\u001b[0m\u001b[32m\u001b[0m\u001b[32m\u001b[0m\u001b[32mTool: \u001b[0m\u001b[32m\u001b[0m\u001b[32m\u001b[0m\u001b[32m\u001b[0m\u001b[32m\u001b[0m\u001b[32mdocRetriever.\n",
      "\u001b[0m\u001b[32m\u001b[0m\u001b[32mTool \u001b[0m\u001b[32m\u001b[0m\u001b[32mInput: \u001b[0m\u001b[32m\n",
      "\u001b[0m\u001b[32m\u001b[0m\u001b[32m```\n",
      "\u001b[0m\u001b[32m\u001b[0m\u001b[32m{\n",
      "\u001b[0m\u001b[32m\u001b[0m\u001b[32m \u001b[0m\u001b[32m\u001b[0m\u001b[32m\u001b[0m\u001b[32m\"input\": \u001b[0m\u001b[32m\u001b[0m\u001b[32m\u001b[0m\u001b[32m\"headquarters \u001b[0m\u001b[32m\u001b[0m\u001b[32mlocation\"\n",
      "\u001b[0m\u001b[32m\u001b[0m\u001b[32m}\n",
      "\u001b[0m\u001b[32m\u001b[0m\u001b[32m```\n",
      "\u001b[0m\u001b[32m\u001b[0m\u001b[32m\u001b[0m\u001b[32m\u001b[0m\u001b[32m\u001b[0m\u001b[32mObservation:\n",
      "\u001b[0m"
     ]
    },
    {
     "data": {
      "application/vnd.jupyter.widget-view+json": {
       "model_id": "e4eb698ebf6e48a0aa91e7dc29038de2",
       "version_major": 2,
       "version_minor": 0
      },
      "text/plain": [
       "Batches:   0%|          | 0/1 [00:00<?, ?it/s]"
      ]
     },
     "metadata": {},
     "output_type": "display_data"
    },
    {
     "name": "stdout",
     "output_type": "stream",
     "text": [
      "Observation: \u001b[33m\n",
      "Image: <|image_\n",
      "This image shows: Headquarters in Santa Clara, California, in 2023 \n",
      "\u001b[0m\n",
      "Thought: "
     ]
    },
    {
     "name": "stderr",
     "output_type": "stream",
     "text": [
      "Both `max_new_tokens` (=100) and `max_length`(=32000) seem to have been set. `max_new_tokens` will take precedence. Please refer to the documentation for more information. (https://huggingface.co/docs/transformers/main/en/main_classes/text_generation)\n"
     ]
    },
    {
     "name": "stdout",
     "output_type": "stream",
     "text": [
      "\u001b[32m\u001b[0m\u001b[32mFinal \u001b[0m\u001b[32m\u001b[0m\u001b[32mAnswer: \u001b[0m\u001b[32mThe \u001b[0m\u001b[32mheadquarters \u001b[0m\u001b[32mis \u001b[0m\u001b[32mlocated \u001b[0m\u001b[32min \u001b[0m\u001b[32mSanta \u001b[0m\u001b[32m\u001b[0m\u001b[32mClara, \u001b[0m\u001b[32m\u001b[0m\u001b[32m\u001b[0m\u001b[32mCalifornia.<|end|>\n",
      "\u001b[0m"
     ]
    }
   ],
   "source": [
    "agent_res_next = conversational_agent.run(\"Where are the headquarters located?\")"
   ]
  },
  {
   "cell_type": "markdown",
   "id": "afcaa6da-625e-4d8d-93c7-1ea31ac08ad9",
   "metadata": {},
   "source": [
    "Correct!\n",
    "\n",
    "Hopefully this gives you an idea of what these types of systems can accomplish, by combining both image and textual data to answer multi-faceted questions. \n",
    "\n",
    "Happy coding! :)"
   ]
  }
 ],
 "metadata": {
  "kernelspec": {
   "display_name": "Python 3 (ipykernel)",
   "language": "python",
   "name": "python3"
  },
  "language_info": {
   "codemirror_mode": {
    "name": "ipython",
    "version": 3
   },
   "file_extension": ".py",
   "mimetype": "text/x-python",
   "name": "python",
   "nbconvert_exporter": "python",
   "pygments_lexer": "ipython3",
   "version": "3.11.7"
  }
 },
 "nbformat": 4,
 "nbformat_minor": 5
}
